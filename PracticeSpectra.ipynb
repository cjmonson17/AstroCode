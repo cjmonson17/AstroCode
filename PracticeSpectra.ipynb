{
 "cells": [
  {
   "cell_type": "code",
   "execution_count": 1,
   "metadata": {},
   "outputs": [],
   "source": [
    "from astropy.io import fits #imports fits package > this allows the opening of fits files  \n",
    "import numpy as np #imports numpy\n",
    "import matplotlib.pyplot as plt\n",
    "import seaborn as sns # provides a high-level interface to draw statitistical graphics\n",
    "from pylab import *\n",
    "%config InlineBackend.figure_format = 'retina' #makes images clearer\n",
    "%matplotlib inline \n",
    "#^put plots in line?"
   ]
  },
  {
   "cell_type": "code",
   "execution_count": 2,
   "metadata": {},
   "outputs": [],
   "source": [
    "sns.set_context('notebook')"
   ]
  },
  {
   "cell_type": "code",
   "execution_count": 14,
   "metadata": {},
   "outputs": [
    {
     "name": "stdout",
     "output_type": "stream",
     "text": [
      "\u001b[31mSDCH_20150425_0064.sn.fits\u001b[m\u001b[m\r\n",
      "\u001b[31mSDCH_20150425_0064.spec_a0v.fits\u001b[m\u001b[m\r\n",
      "\u001b[31mSDCH_20150425_0064.variance.fits\u001b[m\u001b[m\r\n",
      "\u001b[31mSDCH_20150425_0072.variance.fits\u001b[m\u001b[m\r\n",
      "WAVE_PHOENIX-ACES-AGSS-COND-2011.fits\r\n",
      "lte06000-4.00-1.0.Alpha=-0.20.PHOENIX-ACES-AGSS-COND-2011-HiRes.fits\r\n",
      "\u001b[31msubsub_checking_new_data.ipynb\u001b[m\u001b[m\r\n"
     ]
    }
   ],
   "source": [
    "!ls -1 ../Desktop/C_A_Files/ #lists the files in the directory of the files of choice"
   ]
  },
  {
   "cell_type": "code",
   "execution_count": 19,
   "metadata": {},
   "outputs": [],
   "source": [
    "var = fits.open(\"../Desktop/C_A_Files/WAVE_PHOENIX-ACES-AGSS-COND-2011.fits\")\n",
    "# Wavelength grid for all spectra"
   ]
  },
  {
   "cell_type": "code",
   "execution_count": 21,
   "metadata": {},
   "outputs": [
    {
     "name": "stdout",
     "output_type": "stream",
     "text": [
      "Filename: ../Desktop/C_A_Files/WAVE_PHOENIX-ACES-AGSS-COND-2011.fits\n",
      "No.    Name      Ver    Type      Cards   Dimensions   Format\n",
      "  0  PRIMARY       1 PrimaryHDU       8   (1569128,)   float64   \n"
     ]
    }
   ],
   "source": [
    "var.info()"
   ]
  },
  {
   "cell_type": "code",
   "execution_count": 25,
   "metadata": {},
   "outputs": [],
   "source": [
    "hdu = fits.open(\"../Desktop/C_A_Files/lte05000-3.50-0.0.PHOENIX-ACES-AGSS-COND-2011-HiRes.fits\")\n",
    "# Spectrum: T = 6000K, log(g) = 4.0, [Fe/H] = -1.0, [alpha/M] = -0.2\n",
    "#T = Temperature\n",
    "#Log(g) = Log(surface gravity) (compared to Sun)\n",
    "# [Fe/H] = Metallicity (compared to Sun)\n",
    "# [alpha/M] = alpha element abundance (compared to Sun) [alpha particle, integer multiple of four isotopes]"
   ]
  },
  {
   "cell_type": "code",
   "execution_count": 27,
   "metadata": {},
   "outputs": [
    {
     "name": "stdout",
     "output_type": "stream",
     "text": [
      "Filename: ../Desktop/C_A_Files/lte05000-3.50-0.0.PHOENIX-ACES-AGSS-COND-2011-HiRes.fits\n",
      "No.    Name      Ver    Type      Cards   Dimensions   Format\n",
      "  0  PRIMARY       1 PrimaryHDU      24   (1569128,)   float32   \n"
     ]
    }
   ],
   "source": [
    "hdu.info()"
   ]
  },
  {
   "cell_type": "code",
   "execution_count": null,
   "metadata": {},
   "outputs": [],
   "source": []
  }
 ],
 "metadata": {
  "kernelspec": {
   "display_name": "Python 3",
   "language": "python",
   "name": "python3"
  },
  "language_info": {
   "codemirror_mode": {
    "name": "ipython",
    "version": 3
   },
   "file_extension": ".py",
   "mimetype": "text/x-python",
   "name": "python",
   "nbconvert_exporter": "python",
   "pygments_lexer": "ipython3",
   "version": "3.6.8"
  }
 },
 "nbformat": 4,
 "nbformat_minor": 2
}
